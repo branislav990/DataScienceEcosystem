{
 "cells": [
  {
   "cell_type": "markdown",
   "id": "52534692-5de9-4c8a-9b30-499f8de37f80",
   "metadata": {},
   "source": [
    "# Data Science Tools and Ecosystem"
   ]
  },
  {
   "cell_type": "markdown",
   "id": "4df5fa89-b728-4a70-bf17-c926c6ac0926",
   "metadata": {},
   "source": [
    "## Author\n",
    "Branislav Dimitrov"
   ]
  },
  {
   "cell_type": "markdown",
   "id": "0fa6ffbe-0fc7-417f-b923-fb85a75bc04b",
   "metadata": {},
   "source": [
    "In this notebook, Data Science Tools and Ecosystem are summarized."
   ]
  },
  {
   "cell_type": "markdown",
   "id": "ae01568e-9608-41cb-9a6c-fa41b3404cf6",
   "metadata": {},
   "source": [
    "Objectives:\n",
    "- List popular languages for Data Science\n",
    "- List commonly used libraries for Data Science\n",
    "- List commonly used Data Science tools\n",
    "- Perform simple arithmetic calculations in Python"
   ]
  },
  {
   "cell_type": "markdown",
   "id": "44eda60c-c736-4301-a25c-b2bf78b3a34c",
   "metadata": {},
   "source": [
    "Some of the popular languages that Data Scientists use are:\n",
    "1. Python\n",
    "2. R\n",
    "3. Julia\n",
    "4. Java"
   ]
  },
  {
   "cell_type": "markdown",
   "id": "39148ad6-2a15-4cc1-b718-2679de44462b",
   "metadata": {},
   "source": [
    "Some of the commonly used libraries used by Data Scientists include:  \n",
    "1. Pandas\n",
    "2. Numpy\n",
    "3. Matplotlib\n",
    "4. Seaborn\n",
    "5. Scikit-learn"
   ]
  },
  {
   "cell_type": "markdown",
   "id": "363a92af-c230-4a59-a9d3-b145003c2307",
   "metadata": {},
   "source": [
    "| Data Science Tools |\n",
    "| ------------------ |\n",
    "| Jupyter Notebook |\n",
    "| RStudio |\n",
    "| Git |\n",
    "| VS Code |"
   ]
  },
  {
   "cell_type": "markdown",
   "id": "404ff39a-5e00-45db-8986-f6584bdfae89",
   "metadata": {},
   "source": [
    "### Below are a few examples of evaluating arithmetic expressions in Python."
   ]
  },
  {
   "cell_type": "code",
   "execution_count": 1,
   "id": "40a0263a-7346-42ee-ad50-6ba8cc37fb5f",
   "metadata": {},
   "outputs": [
    {
     "data": {
      "text/plain": [
       "17"
      ]
     },
     "execution_count": 1,
     "metadata": {},
     "output_type": "execute_result"
    }
   ],
   "source": [
    "# This a simple arithmetic expression to mutiply then add integers\n",
    "(3 * 4) + 5"
   ]
  },
  {
   "cell_type": "code",
   "execution_count": 3,
   "id": "693e5bd1-5fc2-4b04-ab56-84c84d079830",
   "metadata": {},
   "outputs": [
    {
     "name": "stdout",
     "output_type": "stream",
     "text": [
      "200 minutes equals to 3.33 hours\n"
     ]
    }
   ],
   "source": [
    "# This will convert 200 minutes to hours by diving by 60\n",
    "print(f\"200 minutes equals to {round(200 / 60, 2)} hours\")"
   ]
  },
  {
   "cell_type": "code",
   "execution_count": null,
   "id": "a67903fa-1abd-48d1-aaeb-239f78c5fc87",
   "metadata": {},
   "outputs": [],
   "source": []
  }
 ],
 "metadata": {
  "kernelspec": {
   "display_name": "Python 3 (ipykernel)",
   "language": "python",
   "name": "python3"
  },
  "language_info": {
   "codemirror_mode": {
    "name": "ipython",
    "version": 3
   },
   "file_extension": ".py",
   "mimetype": "text/x-python",
   "name": "python",
   "nbconvert_exporter": "python",
   "pygments_lexer": "ipython3",
   "version": "3.12.8"
  }
 },
 "nbformat": 4,
 "nbformat_minor": 5
}
